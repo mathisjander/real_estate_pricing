{
 "cells": [
  {
   "cell_type": "code",
   "execution_count": 1,
   "id": "c2b8c4d7",
   "metadata": {},
   "outputs": [],
   "source": [
    "from selenium import webdriver\n",
    "from selenium.webdriver.common.by import By\n",
    "from selenium.webdriver.support.ui import WebDriverWait\n",
    "from selenium.webdriver.support import expected_conditions as EC\n",
    "import pandas as pd\n"
   ]
  },
  {
   "cell_type": "code",
   "execution_count": 2,
   "id": "7d15b66b",
   "metadata": {},
   "outputs": [],
   "source": [
    "driver_path = '/Users/mathisjander/chromedriver'\n",
    "\n",
    "\n",
    "def init_driver(chrome_driver_path):\n",
    "    options = webdriver.ChromeOptions()\n",
    "    options.headless = False  # Change this to False if you want to see the browser in action\n",
    "    driver = webdriver.Chrome(executable_path=chrome_driver_path, options=options)\n",
    "    return driver"
   ]
  },
  {
   "cell_type": "code",
   "execution_count": 3,
   "id": "5baa7541",
   "metadata": {},
   "outputs": [
    {
     "name": "stderr",
     "output_type": "stream",
     "text": [
      "/var/folders/zl/cd3hr9dn1lz7c18kq8r1dq3w0000gn/T/ipykernel_42735/899145552.py:6: DeprecationWarning: headless property is deprecated, instead use add_argument('--headless') or add_argument('--headless=new')\n",
      "  options.headless = False  # Change this to False if you want to see the browser in action\n",
      "/var/folders/zl/cd3hr9dn1lz7c18kq8r1dq3w0000gn/T/ipykernel_42735/899145552.py:7: DeprecationWarning: executable_path has been deprecated, please pass in a Service object\n",
      "  driver = webdriver.Chrome(executable_path=chrome_driver_path, options=options)\n"
     ]
    }
   ],
   "source": [
    "driver = init_driver(driver_path)"
   ]
  },
  {
   "cell_type": "code",
   "execution_count": 4,
   "id": "7b867a03",
   "metadata": {},
   "outputs": [],
   "source": [
    "url = 'https://www.immowelt.de/expose/29fhx5b'\n",
    "driver.get(url)\n"
   ]
  },
  {
   "cell_type": "code",
   "execution_count": 5,
   "id": "8732544b",
   "metadata": {},
   "outputs": [
    {
     "ename": "NoSuchElementException",
     "evalue": "Message: no such element: Unable to locate element: {\"method\":\"xpath\",\"selector\":\"//*[@id=\"js_innerBody\"]/div[2]/main/app-expose/div[3]/div[2]/app-expose-sections/sd-container/sd-row/sd-col[1]/div[6]/div/app-energy/sd-card/app-energy-equipment/div/sd-cell[1]/sd-cell-row/sd-cell-col/p[2]\"}\n  (Session info: chrome=112.0.5615.137)\nStacktrace:\n0   chromedriver                        0x00000001031b5670 chromedriver + 4298352\n1   chromedriver                        0x00000001031adbbc chromedriver + 4266940\n2   chromedriver                        0x0000000102de0758 chromedriver + 280408\n3   chromedriver                        0x0000000102e1bb38 chromedriver + 523064\n4   chromedriver                        0x0000000102e54080 chromedriver + 753792\n5   chromedriver                        0x0000000102e0e2d0 chromedriver + 467664\n6   chromedriver                        0x0000000102e0f354 chromedriver + 471892\n7   chromedriver                        0x00000001031756c4 chromedriver + 4036292\n8   chromedriver                        0x0000000103179c64 chromedriver + 4054116\n9   chromedriver                        0x00000001031802d8 chromedriver + 4080344\n10  chromedriver                        0x000000010317a970 chromedriver + 4057456\n11  chromedriver                        0x00000001031518dc chromedriver + 3889372\n12  chromedriver                        0x000000010319925c chromedriver + 4182620\n13  chromedriver                        0x00000001031993b4 chromedriver + 4182964\n14  chromedriver                        0x00000001031a80f4 chromedriver + 4243700\n15  libsystem_pthread.dylib             0x00000001a1ff3fa8 _pthread_start + 148\n16  libsystem_pthread.dylib             0x00000001a1feeda0 thread_start + 8\n",
     "output_type": "error",
     "traceback": [
      "\u001b[0;31m---------------------------------------------------------------------------\u001b[0m",
      "\u001b[0;31mNoSuchElementException\u001b[0m                    Traceback (most recent call last)",
      "Cell \u001b[0;32mIn[5], line 10\u001b[0m\n\u001b[1;32m      7\u001b[0m rooms_element \u001b[38;5;241m=\u001b[39m driver\u001b[38;5;241m.\u001b[39mfind_element(By\u001b[38;5;241m.\u001b[39mXPATH, \u001b[38;5;124m'\u001b[39m\u001b[38;5;124m//*[@id=\u001b[39m\u001b[38;5;124m\"\u001b[39m\u001b[38;5;124maUebersicht\u001b[39m\u001b[38;5;124m\"\u001b[39m\u001b[38;5;124m]/app-hardfacts/div/div/div[2]/div[2]/span\u001b[39m\u001b[38;5;124m'\u001b[39m)\n\u001b[1;32m      8\u001b[0m rooms \u001b[38;5;241m=\u001b[39m rooms_element\u001b[38;5;241m.\u001b[39mtext\u001b[38;5;241m.\u001b[39msplit(\u001b[38;5;124m'\u001b[39m\u001b[38;5;124m \u001b[39m\u001b[38;5;124m'\u001b[39m)[\u001b[38;5;241m0\u001b[39m]\n\u001b[0;32m---> 10\u001b[0m energy_source_element \u001b[38;5;241m=\u001b[39m \u001b[43mdriver\u001b[49m\u001b[38;5;241;43m.\u001b[39;49m\u001b[43mfind_element\u001b[49m\u001b[43m(\u001b[49m\u001b[43mBy\u001b[49m\u001b[38;5;241;43m.\u001b[39;49m\u001b[43mXPATH\u001b[49m\u001b[43m,\u001b[49m\u001b[43m \u001b[49m\u001b[38;5;124;43m'\u001b[39;49m\u001b[38;5;124;43m//*[@id=\u001b[39;49m\u001b[38;5;124;43m\"\u001b[39;49m\u001b[38;5;124;43mjs_innerBody\u001b[39;49m\u001b[38;5;124;43m\"\u001b[39;49m\u001b[38;5;124;43m]/div[2]/main/app-expose/div[3]/div[2]/app-expose-sections/sd-container/sd-row/sd-col[1]/div[6]/div/app-energy/sd-card/app-energy-equipment/div/sd-cell[1]/sd-cell-row/sd-cell-col/p[2]\u001b[39;49m\u001b[38;5;124;43m'\u001b[39;49m\u001b[43m)\u001b[49m\n\u001b[1;32m     11\u001b[0m energy_source \u001b[38;5;241m=\u001b[39m energy_source_element\u001b[38;5;241m.\u001b[39mtext\u001b[38;5;241m.\u001b[39msplit(\u001b[38;5;124m'\u001b[39m\u001b[38;5;124m \u001b[39m\u001b[38;5;124m'\u001b[39m)[\u001b[38;5;241m0\u001b[39m]\n\u001b[1;32m     13\u001b[0m energy_element \u001b[38;5;241m=\u001b[39m driver\u001b[38;5;241m.\u001b[39mfind_element(By\u001b[38;5;241m.\u001b[39mXPATH, \u001b[38;5;124m'\u001b[39m\u001b[38;5;124m//*[@id=\u001b[39m\u001b[38;5;124m\"\u001b[39m\u001b[38;5;124mjs_innerBody\u001b[39m\u001b[38;5;124m\"\u001b[39m\u001b[38;5;124m]/div[2]/main/app-expose/div[3]/div[2]/app-expose-sections/sd-container/sd-row/sd-col[1]/div[6]/div/app-energy/sd-card/div[1]/app-energy-certificate/div[2]/sd-cell[5]/sd-cell-row/sd-cell-col/p[2]\u001b[39m\u001b[38;5;124m'\u001b[39m)\n",
      "File \u001b[0;32m~/opt/anaconda3/envs/real-estate/lib/python3.11/site-packages/selenium/webdriver/remote/webdriver.py:831\u001b[0m, in \u001b[0;36mWebDriver.find_element\u001b[0;34m(self, by, value)\u001b[0m\n\u001b[1;32m    828\u001b[0m     by \u001b[38;5;241m=\u001b[39m By\u001b[38;5;241m.\u001b[39mCSS_SELECTOR\n\u001b[1;32m    829\u001b[0m     value \u001b[38;5;241m=\u001b[39m \u001b[38;5;124mf\u001b[39m\u001b[38;5;124m'\u001b[39m\u001b[38;5;124m[name=\u001b[39m\u001b[38;5;124m\"\u001b[39m\u001b[38;5;132;01m{\u001b[39;00mvalue\u001b[38;5;132;01m}\u001b[39;00m\u001b[38;5;124m\"\u001b[39m\u001b[38;5;124m]\u001b[39m\u001b[38;5;124m'\u001b[39m\n\u001b[0;32m--> 831\u001b[0m \u001b[38;5;28;01mreturn\u001b[39;00m \u001b[38;5;28;43mself\u001b[39;49m\u001b[38;5;241;43m.\u001b[39;49m\u001b[43mexecute\u001b[49m\u001b[43m(\u001b[49m\u001b[43mCommand\u001b[49m\u001b[38;5;241;43m.\u001b[39;49m\u001b[43mFIND_ELEMENT\u001b[49m\u001b[43m,\u001b[49m\u001b[43m \u001b[49m\u001b[43m{\u001b[49m\u001b[38;5;124;43m\"\u001b[39;49m\u001b[38;5;124;43musing\u001b[39;49m\u001b[38;5;124;43m\"\u001b[39;49m\u001b[43m:\u001b[49m\u001b[43m \u001b[49m\u001b[43mby\u001b[49m\u001b[43m,\u001b[49m\u001b[43m \u001b[49m\u001b[38;5;124;43m\"\u001b[39;49m\u001b[38;5;124;43mvalue\u001b[39;49m\u001b[38;5;124;43m\"\u001b[39;49m\u001b[43m:\u001b[49m\u001b[43m \u001b[49m\u001b[43mvalue\u001b[49m\u001b[43m}\u001b[49m\u001b[43m)\u001b[49m[\u001b[38;5;124m\"\u001b[39m\u001b[38;5;124mvalue\u001b[39m\u001b[38;5;124m\"\u001b[39m]\n",
      "File \u001b[0;32m~/opt/anaconda3/envs/real-estate/lib/python3.11/site-packages/selenium/webdriver/remote/webdriver.py:440\u001b[0m, in \u001b[0;36mWebDriver.execute\u001b[0;34m(self, driver_command, params)\u001b[0m\n\u001b[1;32m    438\u001b[0m response \u001b[38;5;241m=\u001b[39m \u001b[38;5;28mself\u001b[39m\u001b[38;5;241m.\u001b[39mcommand_executor\u001b[38;5;241m.\u001b[39mexecute(driver_command, params)\n\u001b[1;32m    439\u001b[0m \u001b[38;5;28;01mif\u001b[39;00m response:\n\u001b[0;32m--> 440\u001b[0m     \u001b[38;5;28;43mself\u001b[39;49m\u001b[38;5;241;43m.\u001b[39;49m\u001b[43merror_handler\u001b[49m\u001b[38;5;241;43m.\u001b[39;49m\u001b[43mcheck_response\u001b[49m\u001b[43m(\u001b[49m\u001b[43mresponse\u001b[49m\u001b[43m)\u001b[49m\n\u001b[1;32m    441\u001b[0m     response[\u001b[38;5;124m\"\u001b[39m\u001b[38;5;124mvalue\u001b[39m\u001b[38;5;124m\"\u001b[39m] \u001b[38;5;241m=\u001b[39m \u001b[38;5;28mself\u001b[39m\u001b[38;5;241m.\u001b[39m_unwrap_value(response\u001b[38;5;241m.\u001b[39mget(\u001b[38;5;124m\"\u001b[39m\u001b[38;5;124mvalue\u001b[39m\u001b[38;5;124m\"\u001b[39m, \u001b[38;5;28;01mNone\u001b[39;00m))\n\u001b[1;32m    442\u001b[0m     \u001b[38;5;28;01mreturn\u001b[39;00m response\n",
      "File \u001b[0;32m~/opt/anaconda3/envs/real-estate/lib/python3.11/site-packages/selenium/webdriver/remote/errorhandler.py:245\u001b[0m, in \u001b[0;36mErrorHandler.check_response\u001b[0;34m(self, response)\u001b[0m\n\u001b[1;32m    243\u001b[0m         alert_text \u001b[38;5;241m=\u001b[39m value[\u001b[38;5;124m\"\u001b[39m\u001b[38;5;124malert\u001b[39m\u001b[38;5;124m\"\u001b[39m]\u001b[38;5;241m.\u001b[39mget(\u001b[38;5;124m\"\u001b[39m\u001b[38;5;124mtext\u001b[39m\u001b[38;5;124m\"\u001b[39m)\n\u001b[1;32m    244\u001b[0m     \u001b[38;5;28;01mraise\u001b[39;00m exception_class(message, screen, stacktrace, alert_text)  \u001b[38;5;66;03m# type: ignore[call-arg]  # mypy is not smart enough here\u001b[39;00m\n\u001b[0;32m--> 245\u001b[0m \u001b[38;5;28;01mraise\u001b[39;00m exception_class(message, screen, stacktrace)\n",
      "\u001b[0;31mNoSuchElementException\u001b[0m: Message: no such element: Unable to locate element: {\"method\":\"xpath\",\"selector\":\"//*[@id=\"js_innerBody\"]/div[2]/main/app-expose/div[3]/div[2]/app-expose-sections/sd-container/sd-row/sd-col[1]/div[6]/div/app-energy/sd-card/app-energy-equipment/div/sd-cell[1]/sd-cell-row/sd-cell-col/p[2]\"}\n  (Session info: chrome=112.0.5615.137)\nStacktrace:\n0   chromedriver                        0x00000001031b5670 chromedriver + 4298352\n1   chromedriver                        0x00000001031adbbc chromedriver + 4266940\n2   chromedriver                        0x0000000102de0758 chromedriver + 280408\n3   chromedriver                        0x0000000102e1bb38 chromedriver + 523064\n4   chromedriver                        0x0000000102e54080 chromedriver + 753792\n5   chromedriver                        0x0000000102e0e2d0 chromedriver + 467664\n6   chromedriver                        0x0000000102e0f354 chromedriver + 471892\n7   chromedriver                        0x00000001031756c4 chromedriver + 4036292\n8   chromedriver                        0x0000000103179c64 chromedriver + 4054116\n9   chromedriver                        0x00000001031802d8 chromedriver + 4080344\n10  chromedriver                        0x000000010317a970 chromedriver + 4057456\n11  chromedriver                        0x00000001031518dc chromedriver + 3889372\n12  chromedriver                        0x000000010319925c chromedriver + 4182620\n13  chromedriver                        0x00000001031993b4 chromedriver + 4182964\n14  chromedriver                        0x00000001031a80f4 chromedriver + 4243700\n15  libsystem_pthread.dylib             0x00000001a1ff3fa8 _pthread_start + 148\n16  libsystem_pthread.dylib             0x00000001a1feeda0 thread_start + 8\n"
     ]
    }
   ],
   "source": [
    "price_element = driver.find_element(By.XPATH, '//*[@id=\"aUebersicht\"]/app-hardfacts/div/div/div[1]/div[1]/strong')\n",
    "price = price_element.text.split(' ')[0].replace('.', '')\n",
    "\n",
    "area_element = driver.find_element(By.XPATH, '//*[@id=\"aUebersicht\"]/app-hardfacts/div/div/div[2]/div[1]/span')\n",
    "area = area_element.text.split(' ')[0]\n",
    "\n",
    "rooms_element = driver.find_element(By.XPATH, '//*[@id=\"aUebersicht\"]/app-hardfacts/div/div/div[2]/div[2]/span')\n",
    "rooms = rooms_element.text.split(' ')[0]\n",
    "\n",
    "energy_source_element = driver.find_element(By.XPATH, '//*[@id=\"js_innerBody\"]/div[2]/main/app-expose/div[3]/div[2]/app-expose-sections/sd-container/sd-row/sd-col[1]/div[6]/div/app-energy/sd-card/app-energy-equipment/div/sd-cell[1]/sd-cell-row/sd-cell-col/p[2]')\n",
    "energy_source = energy_source_element.text.split(' ')[0]\n",
    "\n",
    "energy_element = driver.find_element(By.XPATH, '//*[@id=\"js_innerBody\"]/div[2]/main/app-expose/div[3]/div[2]/app-expose-sections/sd-container/sd-row/sd-col[1]/div[6]/div/app-energy/sd-card/div[1]/app-energy-certificate/div[2]/sd-cell[5]/sd-cell-row/sd-cell-col/p[2]')\n",
    "energy = energy_element.text.split(' ')[0].replace(',', '.')"
   ]
  },
  {
   "cell_type": "code",
   "execution_count": 6,
   "id": "abab6a55",
   "metadata": {},
   "outputs": [
    {
     "ename": "NameError",
     "evalue": "name 'energy_source' is not defined",
     "output_type": "error",
     "traceback": [
      "\u001b[0;31m---------------------------------------------------------------------------\u001b[0m",
      "\u001b[0;31mNameError\u001b[0m                                 Traceback (most recent call last)",
      "Cell \u001b[0;32mIn[6], line 1\u001b[0m\n\u001b[0;32m----> 1\u001b[0m price, area, rooms, \u001b[43menergy_source\u001b[49m, energy\n",
      "\u001b[0;31mNameError\u001b[0m: name 'energy_source' is not defined"
     ]
    }
   ],
   "source": [
    "price, area, rooms, energy_source, energy"
   ]
  },
  {
   "cell_type": "code",
   "execution_count": 11,
   "id": "d33e503d",
   "metadata": {},
   "outputs": [
    {
     "name": "stderr",
     "output_type": "stream",
     "text": [
      "/var/folders/zl/cd3hr9dn1lz7c18kq8r1dq3w0000gn/T/ipykernel_42735/899145552.py:6: DeprecationWarning: headless property is deprecated, instead use add_argument('--headless') or add_argument('--headless=new')\n",
      "  options.headless = False  # Change this to False if you want to see the browser in action\n",
      "/var/folders/zl/cd3hr9dn1lz7c18kq8r1dq3w0000gn/T/ipykernel_42735/899145552.py:7: DeprecationWarning: executable_path has been deprecated, please pass in a Service object\n",
      "  driver = webdriver.Chrome(executable_path=chrome_driver_path, options=options)\n"
     ]
    },
    {
     "ename": "TimeoutException",
     "evalue": "Message: \nStacktrace:\n0   chromedriver                        0x0000000102b89670 chromedriver + 4298352\n1   chromedriver                        0x0000000102b81bbc chromedriver + 4266940\n2   chromedriver                        0x00000001027b4758 chromedriver + 280408\n3   chromedriver                        0x00000001027efb38 chromedriver + 523064\n4   chromedriver                        0x0000000102828080 chromedriver + 753792\n5   chromedriver                        0x00000001027e22d0 chromedriver + 467664\n6   chromedriver                        0x00000001027e3354 chromedriver + 471892\n7   chromedriver                        0x0000000102b496c4 chromedriver + 4036292\n8   chromedriver                        0x0000000102b4dc64 chromedriver + 4054116\n9   chromedriver                        0x0000000102b542d8 chromedriver + 4080344\n10  chromedriver                        0x0000000102b4e970 chromedriver + 4057456\n11  chromedriver                        0x0000000102b258dc chromedriver + 3889372\n12  chromedriver                        0x0000000102b6d25c chromedriver + 4182620\n13  chromedriver                        0x0000000102b6d3b4 chromedriver + 4182964\n14  chromedriver                        0x0000000102b7c0f4 chromedriver + 4243700\n15  libsystem_pthread.dylib             0x00000001a1ff3fa8 _pthread_start + 148\n16  libsystem_pthread.dylib             0x00000001a1feeda0 thread_start + 8\n",
     "output_type": "error",
     "traceback": [
      "\u001b[0;31m---------------------------------------------------------------------------\u001b[0m",
      "\u001b[0;31mTimeoutException\u001b[0m                          Traceback (most recent call last)",
      "Cell \u001b[0;32mIn[11], line 9\u001b[0m\n\u001b[1;32m      4\u001b[0m driver\u001b[38;5;241m.\u001b[39mget(url)\n\u001b[1;32m      7\u001b[0m \u001b[38;5;66;03m# code to close pop up\u001b[39;00m\n\u001b[0;32m----> 9\u001b[0m \u001b[43mWebDriverWait\u001b[49m\u001b[43m(\u001b[49m\u001b[43mdriver\u001b[49m\u001b[43m,\u001b[49m\u001b[43m \u001b[49m\u001b[38;5;241;43m10\u001b[39;49m\u001b[43m)\u001b[49m\u001b[38;5;241;43m.\u001b[39;49m\u001b[43muntil\u001b[49m\u001b[43m(\u001b[49m\u001b[43mEC\u001b[49m\u001b[38;5;241;43m.\u001b[39;49m\u001b[43melement_to_be_clickable\u001b[49m\u001b[43m(\u001b[49m\u001b[43m(\u001b[49m\u001b[43mBy\u001b[49m\u001b[38;5;241;43m.\u001b[39;49m\u001b[43mXPATH\u001b[49m\u001b[43m,\u001b[49m\u001b[38;5;124;43m'\u001b[39;49m\u001b[38;5;124;43m//*[@id=\u001b[39;49m\u001b[38;5;124;43m\"\u001b[39;49m\u001b[38;5;124;43muc-center-container\u001b[39;49m\u001b[38;5;124;43m\"\u001b[39;49m\u001b[38;5;124;43m]/div[2]/div/div/div/button[2]\u001b[39;49m\u001b[38;5;124;43m'\u001b[39;49m\u001b[43m)\u001b[49m\u001b[43m)\u001b[49m\u001b[43m)\u001b[49m\u001b[38;5;241m.\u001b[39mclick()\n\u001b[1;32m     13\u001b[0m \u001b[38;5;66;03m# code to get links for listings\u001b[39;00m\n\u001b[1;32m     14\u001b[0m links \u001b[38;5;241m=\u001b[39m []\n",
      "File \u001b[0;32m~/opt/anaconda3/envs/real-estate/lib/python3.11/site-packages/selenium/webdriver/support/wait.py:95\u001b[0m, in \u001b[0;36mWebDriverWait.until\u001b[0;34m(self, method, message)\u001b[0m\n\u001b[1;32m     93\u001b[0m     \u001b[38;5;28;01mif\u001b[39;00m time\u001b[38;5;241m.\u001b[39mmonotonic() \u001b[38;5;241m>\u001b[39m end_time:\n\u001b[1;32m     94\u001b[0m         \u001b[38;5;28;01mbreak\u001b[39;00m\n\u001b[0;32m---> 95\u001b[0m \u001b[38;5;28;01mraise\u001b[39;00m TimeoutException(message, screen, stacktrace)\n",
      "\u001b[0;31mTimeoutException\u001b[0m: Message: \nStacktrace:\n0   chromedriver                        0x0000000102b89670 chromedriver + 4298352\n1   chromedriver                        0x0000000102b81bbc chromedriver + 4266940\n2   chromedriver                        0x00000001027b4758 chromedriver + 280408\n3   chromedriver                        0x00000001027efb38 chromedriver + 523064\n4   chromedriver                        0x0000000102828080 chromedriver + 753792\n5   chromedriver                        0x00000001027e22d0 chromedriver + 467664\n6   chromedriver                        0x00000001027e3354 chromedriver + 471892\n7   chromedriver                        0x0000000102b496c4 chromedriver + 4036292\n8   chromedriver                        0x0000000102b4dc64 chromedriver + 4054116\n9   chromedriver                        0x0000000102b542d8 chromedriver + 4080344\n10  chromedriver                        0x0000000102b4e970 chromedriver + 4057456\n11  chromedriver                        0x0000000102b258dc chromedriver + 3889372\n12  chromedriver                        0x0000000102b6d25c chromedriver + 4182620\n13  chromedriver                        0x0000000102b6d3b4 chromedriver + 4182964\n14  chromedriver                        0x0000000102b7c0f4 chromedriver + 4243700\n15  libsystem_pthread.dylib             0x00000001a1ff3fa8 _pthread_start + 148\n16  libsystem_pthread.dylib             0x00000001a1feeda0 thread_start + 8\n"
     ]
    }
   ],
   "source": [
    "driver = init_driver(driver_path)\n",
    "\n",
    "url = 'https://www.immowelt.de/liste/berlin/wohnungen/kaufen?d=true&efs=NEW_BUILDING_PROJECT&efs=JUDICIAL_SALE&sd=DESC&sf=RELEVANCE&sp=1'\n",
    "driver.get(url)\n",
    "\n",
    "\n",
    "# code to close pop up\n",
    "\n",
    "WebDriverWait(driver, 10).until(EC.element_to_be_clickable((By.XPATH,'//*[@id=\"uc-center-container\"]/div[2]/div/div/div/button[2]'))).click()\n",
    "\n",
    "\n",
    "\n",
    "# code to get links for listings\n",
    "links = []\n",
    "\n",
    "for _ in range(3):\n",
    "        \n",
    "    \n",
    "    # iterate over listings on page to and retrieve links\n",
    "\n",
    "    for i in range(1,30):\n",
    "        try:\n",
    "            link_element = driver.find_element(By.XPATH, f'/html/body/div[1]/main/div[1]/div[1]/div/div[5]/div[{i}]/a')\n",
    "            link = link_element.get_attribute('href')\n",
    "            links.append(link)\n",
    "        except:\n",
    "            pass\n",
    "    \n",
    "    next_page = driver.find_element(By.XPATH, '/html/body/div[1]/main/div/div[1]/div/div[7]/div/button[6]')\n",
    "    next_page.click()\n",
    "\n",
    "links"
   ]
  },
  {
   "cell_type": "code",
   "execution_count": 79,
   "id": "bfe5044a",
   "metadata": {},
   "outputs": [
    {
     "data": {
      "text/plain": [
       "0"
      ]
     },
     "execution_count": 79,
     "metadata": {},
     "output_type": "execute_result"
    }
   ],
   "source": [
    "len(links)"
   ]
  },
  {
   "cell_type": "code",
   "execution_count": 90,
   "id": "d3eb2471",
   "metadata": {},
   "outputs": [],
   "source": [
    "driver.quit()"
   ]
  },
  {
   "cell_type": "code",
   "execution_count": 8,
   "id": "f6335aaa",
   "metadata": {},
   "outputs": [
    {
     "ename": "NoSuchElementException",
     "evalue": "Message: no such element: Unable to locate element: {\"method\":\"xpath\",\"selector\":\"/html/body/div[2]//div/div/div[2]/div/div[2]/div/div[2]/div/div/div/button[2]\"}\n  (Session info: chrome=112.0.5615.137)\nStacktrace:\n0   chromedriver                        0x0000000100af5670 chromedriver + 4298352\n1   chromedriver                        0x0000000100aedbbc chromedriver + 4266940\n2   chromedriver                        0x0000000100720758 chromedriver + 280408\n3   chromedriver                        0x000000010075bb38 chromedriver + 523064\n4   chromedriver                        0x0000000100794080 chromedriver + 753792\n5   chromedriver                        0x000000010074e2d0 chromedriver + 467664\n6   chromedriver                        0x000000010074f354 chromedriver + 471892\n7   chromedriver                        0x0000000100ab56c4 chromedriver + 4036292\n8   chromedriver                        0x0000000100ab9c64 chromedriver + 4054116\n9   chromedriver                        0x0000000100ac02d8 chromedriver + 4080344\n10  chromedriver                        0x0000000100aba970 chromedriver + 4057456\n11  chromedriver                        0x0000000100a918dc chromedriver + 3889372\n12  chromedriver                        0x0000000100ad925c chromedriver + 4182620\n13  chromedriver                        0x0000000100ad93b4 chromedriver + 4182964\n14  chromedriver                        0x0000000100ae80f4 chromedriver + 4243700\n15  libsystem_pthread.dylib             0x00000001a1ff3fa8 _pthread_start + 148\n16  libsystem_pthread.dylib             0x00000001a1feeda0 thread_start + 8\n",
     "output_type": "error",
     "traceback": [
      "\u001b[0;31m---------------------------------------------------------------------------\u001b[0m",
      "\u001b[0;31mNoSuchElementException\u001b[0m                    Traceback (most recent call last)",
      "Cell \u001b[0;32mIn[8], line 1\u001b[0m\n\u001b[0;32m----> 1\u001b[0m popup \u001b[38;5;241m=\u001b[39m \u001b[43mdriver\u001b[49m\u001b[38;5;241;43m.\u001b[39;49m\u001b[43mfind_element\u001b[49m\u001b[43m(\u001b[49m\u001b[43mBy\u001b[49m\u001b[38;5;241;43m.\u001b[39;49m\u001b[43mXPATH\u001b[49m\u001b[43m,\u001b[49m\u001b[43m \u001b[49m\u001b[43mpopup_xpath\u001b[49m\u001b[43m)\u001b[49m\n\u001b[1;32m      2\u001b[0m popup\u001b[38;5;241m.\u001b[39mclick()\n",
      "File \u001b[0;32m~/opt/anaconda3/envs/real-estate/lib/python3.11/site-packages/selenium/webdriver/remote/webdriver.py:831\u001b[0m, in \u001b[0;36mWebDriver.find_element\u001b[0;34m(self, by, value)\u001b[0m\n\u001b[1;32m    828\u001b[0m     by \u001b[38;5;241m=\u001b[39m By\u001b[38;5;241m.\u001b[39mCSS_SELECTOR\n\u001b[1;32m    829\u001b[0m     value \u001b[38;5;241m=\u001b[39m \u001b[38;5;124mf\u001b[39m\u001b[38;5;124m'\u001b[39m\u001b[38;5;124m[name=\u001b[39m\u001b[38;5;124m\"\u001b[39m\u001b[38;5;132;01m{\u001b[39;00mvalue\u001b[38;5;132;01m}\u001b[39;00m\u001b[38;5;124m\"\u001b[39m\u001b[38;5;124m]\u001b[39m\u001b[38;5;124m'\u001b[39m\n\u001b[0;32m--> 831\u001b[0m \u001b[38;5;28;01mreturn\u001b[39;00m \u001b[38;5;28;43mself\u001b[39;49m\u001b[38;5;241;43m.\u001b[39;49m\u001b[43mexecute\u001b[49m\u001b[43m(\u001b[49m\u001b[43mCommand\u001b[49m\u001b[38;5;241;43m.\u001b[39;49m\u001b[43mFIND_ELEMENT\u001b[49m\u001b[43m,\u001b[49m\u001b[43m \u001b[49m\u001b[43m{\u001b[49m\u001b[38;5;124;43m\"\u001b[39;49m\u001b[38;5;124;43musing\u001b[39;49m\u001b[38;5;124;43m\"\u001b[39;49m\u001b[43m:\u001b[49m\u001b[43m \u001b[49m\u001b[43mby\u001b[49m\u001b[43m,\u001b[49m\u001b[43m \u001b[49m\u001b[38;5;124;43m\"\u001b[39;49m\u001b[38;5;124;43mvalue\u001b[39;49m\u001b[38;5;124;43m\"\u001b[39;49m\u001b[43m:\u001b[49m\u001b[43m \u001b[49m\u001b[43mvalue\u001b[49m\u001b[43m}\u001b[49m\u001b[43m)\u001b[49m[\u001b[38;5;124m\"\u001b[39m\u001b[38;5;124mvalue\u001b[39m\u001b[38;5;124m\"\u001b[39m]\n",
      "File \u001b[0;32m~/opt/anaconda3/envs/real-estate/lib/python3.11/site-packages/selenium/webdriver/remote/webdriver.py:440\u001b[0m, in \u001b[0;36mWebDriver.execute\u001b[0;34m(self, driver_command, params)\u001b[0m\n\u001b[1;32m    438\u001b[0m response \u001b[38;5;241m=\u001b[39m \u001b[38;5;28mself\u001b[39m\u001b[38;5;241m.\u001b[39mcommand_executor\u001b[38;5;241m.\u001b[39mexecute(driver_command, params)\n\u001b[1;32m    439\u001b[0m \u001b[38;5;28;01mif\u001b[39;00m response:\n\u001b[0;32m--> 440\u001b[0m     \u001b[38;5;28;43mself\u001b[39;49m\u001b[38;5;241;43m.\u001b[39;49m\u001b[43merror_handler\u001b[49m\u001b[38;5;241;43m.\u001b[39;49m\u001b[43mcheck_response\u001b[49m\u001b[43m(\u001b[49m\u001b[43mresponse\u001b[49m\u001b[43m)\u001b[49m\n\u001b[1;32m    441\u001b[0m     response[\u001b[38;5;124m\"\u001b[39m\u001b[38;5;124mvalue\u001b[39m\u001b[38;5;124m\"\u001b[39m] \u001b[38;5;241m=\u001b[39m \u001b[38;5;28mself\u001b[39m\u001b[38;5;241m.\u001b[39m_unwrap_value(response\u001b[38;5;241m.\u001b[39mget(\u001b[38;5;124m\"\u001b[39m\u001b[38;5;124mvalue\u001b[39m\u001b[38;5;124m\"\u001b[39m, \u001b[38;5;28;01mNone\u001b[39;00m))\n\u001b[1;32m    442\u001b[0m     \u001b[38;5;28;01mreturn\u001b[39;00m response\n",
      "File \u001b[0;32m~/opt/anaconda3/envs/real-estate/lib/python3.11/site-packages/selenium/webdriver/remote/errorhandler.py:245\u001b[0m, in \u001b[0;36mErrorHandler.check_response\u001b[0;34m(self, response)\u001b[0m\n\u001b[1;32m    243\u001b[0m         alert_text \u001b[38;5;241m=\u001b[39m value[\u001b[38;5;124m\"\u001b[39m\u001b[38;5;124malert\u001b[39m\u001b[38;5;124m\"\u001b[39m]\u001b[38;5;241m.\u001b[39mget(\u001b[38;5;124m\"\u001b[39m\u001b[38;5;124mtext\u001b[39m\u001b[38;5;124m\"\u001b[39m)\n\u001b[1;32m    244\u001b[0m     \u001b[38;5;28;01mraise\u001b[39;00m exception_class(message, screen, stacktrace, alert_text)  \u001b[38;5;66;03m# type: ignore[call-arg]  # mypy is not smart enough here\u001b[39;00m\n\u001b[0;32m--> 245\u001b[0m \u001b[38;5;28;01mraise\u001b[39;00m exception_class(message, screen, stacktrace)\n",
      "\u001b[0;31mNoSuchElementException\u001b[0m: Message: no such element: Unable to locate element: {\"method\":\"xpath\",\"selector\":\"/html/body/div[2]//div/div/div[2]/div/div[2]/div/div[2]/div/div/div/button[2]\"}\n  (Session info: chrome=112.0.5615.137)\nStacktrace:\n0   chromedriver                        0x0000000100af5670 chromedriver + 4298352\n1   chromedriver                        0x0000000100aedbbc chromedriver + 4266940\n2   chromedriver                        0x0000000100720758 chromedriver + 280408\n3   chromedriver                        0x000000010075bb38 chromedriver + 523064\n4   chromedriver                        0x0000000100794080 chromedriver + 753792\n5   chromedriver                        0x000000010074e2d0 chromedriver + 467664\n6   chromedriver                        0x000000010074f354 chromedriver + 471892\n7   chromedriver                        0x0000000100ab56c4 chromedriver + 4036292\n8   chromedriver                        0x0000000100ab9c64 chromedriver + 4054116\n9   chromedriver                        0x0000000100ac02d8 chromedriver + 4080344\n10  chromedriver                        0x0000000100aba970 chromedriver + 4057456\n11  chromedriver                        0x0000000100a918dc chromedriver + 3889372\n12  chromedriver                        0x0000000100ad925c chromedriver + 4182620\n13  chromedriver                        0x0000000100ad93b4 chromedriver + 4182964\n14  chromedriver                        0x0000000100ae80f4 chromedriver + 4243700\n15  libsystem_pthread.dylib             0x00000001a1ff3fa8 _pthread_start + 148\n16  libsystem_pthread.dylib             0x00000001a1feeda0 thread_start + 8\n"
     ]
    }
   ],
   "source": [
    "popup = driver.find_element(By.XPATH, popup_xpath)\n",
    "popup.click()"
   ]
  },
  {
   "cell_type": "code",
   "execution_count": null,
   "id": "4c5b650e",
   "metadata": {},
   "outputs": [],
   "source": []
  }
 ],
 "metadata": {
  "kernelspec": {
   "display_name": "Python 3 (ipykernel)",
   "language": "python",
   "name": "python3"
  },
  "language_info": {
   "codemirror_mode": {
    "name": "ipython",
    "version": 3
   },
   "file_extension": ".py",
   "mimetype": "text/x-python",
   "name": "python",
   "nbconvert_exporter": "python",
   "pygments_lexer": "ipython3",
   "version": "3.11.3"
  }
 },
 "nbformat": 4,
 "nbformat_minor": 5
}
