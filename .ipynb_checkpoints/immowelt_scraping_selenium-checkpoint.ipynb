{
 "cells": [
  {
   "cell_type": "code",
   "execution_count": 3,
   "id": "a4bfa824",
   "metadata": {},
   "outputs": [
    {
     "name": "stdout",
     "output_type": "stream",
     "text": [
      "Collecting pandas\n",
      "  Downloading pandas-2.0.0-cp311-cp311-macosx_10_9_x86_64.whl (11.6 MB)\n",
      "\u001b[2K     \u001b[90m━━━━━━━━━━━━━━━━━━━━━━━━━━━━━━━━━━━━━━━━\u001b[0m \u001b[32m11.6/11.6 MB\u001b[0m \u001b[31m6.3 MB/s\u001b[0m eta \u001b[36m0:00:00\u001b[0m00:01\u001b[0m00:01\u001b[0m\n",
      "\u001b[?25hRequirement already satisfied: python-dateutil>=2.8.2 in /Users/mathisjander/opt/anaconda3/envs/real-estate/lib/python3.11/site-packages (from pandas) (2.8.2)\n",
      "Collecting pytz>=2020.1 (from pandas)\n",
      "  Using cached pytz-2023.3-py2.py3-none-any.whl (502 kB)\n",
      "Collecting tzdata>=2022.1 (from pandas)\n",
      "  Using cached tzdata-2023.3-py2.py3-none-any.whl (341 kB)\n",
      "Collecting numpy>=1.21.0 (from pandas)\n",
      "  Downloading numpy-1.24.2-cp311-cp311-macosx_10_9_x86_64.whl (19.8 MB)\n",
      "\u001b[2K     \u001b[90m━━━━━━━━━━━━━━━━━━━━━━━━━━━━━━━━━━━━━━━━\u001b[0m \u001b[32m19.8/19.8 MB\u001b[0m \u001b[31m6.2 MB/s\u001b[0m eta \u001b[36m0:00:00\u001b[0m00:01\u001b[0m00:01\u001b[0m\n",
      "\u001b[?25hRequirement already satisfied: six>=1.5 in /Users/mathisjander/opt/anaconda3/envs/real-estate/lib/python3.11/site-packages (from python-dateutil>=2.8.2->pandas) (1.16.0)\n",
      "Installing collected packages: pytz, tzdata, numpy, pandas\n",
      "Successfully installed numpy-1.24.2 pandas-2.0.0 pytz-2023.3 tzdata-2023.3\n"
     ]
    }
   ],
   "source": [
    "!pip install pandas"
   ]
  },
  {
   "cell_type": "code",
   "execution_count": 4,
   "id": "c2b8c4d7",
   "metadata": {},
   "outputs": [],
   "source": [
    "from selenium import webdriver\n",
    "from selenium.webdriver.common.by import By\n",
    "from selenium.webdriver.support.ui import WebDriverWait\n",
    "from selenium.webdriver.support import expected_conditions as EC\n",
    "import pandas as pd\n"
   ]
  },
  {
   "cell_type": "code",
   "execution_count": 12,
   "id": "7d15b66b",
   "metadata": {},
   "outputs": [],
   "source": [
    "driver_path = '/Users/mathisjander/chromedriver'\n",
    "\n",
    "\n",
    "def init_driver(chrome_driver_path):\n",
    "    options = webdriver.ChromeOptions()\n",
    "    options.headless = False  # Change this to False if you want to see the browser in action\n",
    "    driver = webdriver.Chrome(executable_path=chrome_driver_path, options=options)\n",
    "    return driver"
   ]
  },
  {
   "cell_type": "code",
   "execution_count": 75,
   "id": "5baa7541",
   "metadata": {},
   "outputs": [
    {
     "name": "stderr",
     "output_type": "stream",
     "text": [
      "/var/folders/zl/cd3hr9dn1lz7c18kq8r1dq3w0000gn/T/ipykernel_33416/899145552.py:6: DeprecationWarning: headless property is deprecated, instead use add_argument('--headless') or add_argument('--headless=new')\n",
      "  options.headless = False  # Change this to False if you want to see the browser in action\n",
      "/var/folders/zl/cd3hr9dn1lz7c18kq8r1dq3w0000gn/T/ipykernel_33416/899145552.py:7: DeprecationWarning: executable_path has been deprecated, please pass in a Service object\n",
      "  driver = webdriver.Chrome(executable_path=chrome_driver_path, options=options)\n"
     ]
    }
   ],
   "source": [
    "driver = init_driver(driver_path)"
   ]
  },
  {
   "cell_type": "code",
   "execution_count": 39,
   "id": "7b867a03",
   "metadata": {},
   "outputs": [],
   "source": [
    "url = 'https://www.immowelt.de/expose/29fhx5b'\n",
    "driver.get(url)\n"
   ]
  },
  {
   "cell_type": "code",
   "execution_count": 51,
   "id": "8732544b",
   "metadata": {},
   "outputs": [],
   "source": [
    "price_element = driver.find_element(By.XPATH, '//*[@id=\"aUebersicht\"]/app-hardfacts/div/div/div[1]/div[1]/strong')\n",
    "price = price_element.text.split(' ')[0].replace('.', '')\n",
    "\n",
    "area_element = driver.find_element(By.XPATH, '//*[@id=\"aUebersicht\"]/app-hardfacts/div/div/div[2]/div[1]/span')\n",
    "area = area_element.text.split(' ')[0]\n",
    "\n",
    "rooms_element = driver.find_element(By.XPATH, '//*[@id=\"aUebersicht\"]/app-hardfacts/div/div/div[2]/div[2]/span')\n",
    "rooms = rooms_element.text.split(' ')[0]\n",
    "\n",
    "energy_source_element = driver.find_element(By.XPATH, '//*[@id=\"js_innerBody\"]/div[2]/main/app-expose/div[3]/div[2]/app-expose-sections/sd-container/sd-row/sd-col[1]/div[6]/div/app-energy/sd-card/app-energy-equipment/div/sd-cell[1]/sd-cell-row/sd-cell-col/p[2]')\n",
    "energy_source = energy_source_element.text.split(' ')[0]\n",
    "\n",
    "energy_element = driver.find_element(By.XPATH, '//*[@id=\"js_innerBody\"]/div[2]/main/app-expose/div[3]/div[2]/app-expose-sections/sd-container/sd-row/sd-col[1]/div[6]/div/app-energy/sd-card/div[1]/app-energy-certificate/div[2]/sd-cell[5]/sd-cell-row/sd-cell-col/p[2]')\n",
    "energy = energy_element.text.split(' ')[0].replace(',', '.')"
   ]
  },
  {
   "cell_type": "code",
   "execution_count": 52,
   "id": "abab6a55",
   "metadata": {},
   "outputs": [
    {
     "data": {
      "text/plain": [
       "('249000', '64', '3', 'Öl', '124.00')"
      ]
     },
     "execution_count": 52,
     "metadata": {},
     "output_type": "execute_result"
    }
   ],
   "source": [
    "price, area, rooms, energy_source, energy"
   ]
  },
  {
   "cell_type": "code",
   "execution_count": 91,
   "id": "d33e503d",
   "metadata": {},
   "outputs": [
    {
     "name": "stderr",
     "output_type": "stream",
     "text": [
      "/var/folders/zl/cd3hr9dn1lz7c18kq8r1dq3w0000gn/T/ipykernel_33416/899145552.py:6: DeprecationWarning: headless property is deprecated, instead use add_argument('--headless') or add_argument('--headless=new')\n",
      "  options.headless = False  # Change this to False if you want to see the browser in action\n",
      "/var/folders/zl/cd3hr9dn1lz7c18kq8r1dq3w0000gn/T/ipykernel_33416/899145552.py:7: DeprecationWarning: executable_path has been deprecated, please pass in a Service object\n",
      "  driver = webdriver.Chrome(executable_path=chrome_driver_path, options=options)\n"
     ]
    },
    {
     "name": "stdout",
     "output_type": "stream",
     "text": [
      "The element could not be found within the specified timeout.\n"
     ]
    },
    {
     "ename": "NoSuchElementException",
     "evalue": "Message: no such element: Unable to locate element: {\"method\":\"xpath\",\"selector\":\"/html/body/div[2]//div/div/div[2]/div/div[2]/div/div[2]/div/div/div/button[2]\"}\n  (Session info: chrome=112.0.5615.137)\nStacktrace:\n0   chromedriver                        0x000000010539d670 chromedriver + 4298352\n1   chromedriver                        0x0000000105395bbc chromedriver + 4266940\n2   chromedriver                        0x0000000104fc8758 chromedriver + 280408\n3   chromedriver                        0x0000000105003b38 chromedriver + 523064\n4   chromedriver                        0x000000010503c080 chromedriver + 753792\n5   chromedriver                        0x0000000104ff62d0 chromedriver + 467664\n6   chromedriver                        0x0000000104ff7354 chromedriver + 471892\n7   chromedriver                        0x000000010535d6c4 chromedriver + 4036292\n8   chromedriver                        0x0000000105361c64 chromedriver + 4054116\n9   chromedriver                        0x00000001053682d8 chromedriver + 4080344\n10  chromedriver                        0x0000000105362970 chromedriver + 4057456\n11  chromedriver                        0x00000001053398dc chromedriver + 3889372\n12  chromedriver                        0x000000010538125c chromedriver + 4182620\n13  chromedriver                        0x00000001053813b4 chromedriver + 4182964\n14  chromedriver                        0x00000001053900f4 chromedriver + 4243700\n15  libsystem_pthread.dylib             0x00000001a1ff3fa8 _pthread_start + 148\n16  libsystem_pthread.dylib             0x00000001a1feeda0 thread_start + 8\n",
     "output_type": "error",
     "traceback": [
      "\u001b[0;31m---------------------------------------------------------------------------\u001b[0m",
      "\u001b[0;31mNoSuchElementException\u001b[0m                    Traceback (most recent call last)",
      "Cell \u001b[0;32mIn[91], line 24\u001b[0m\n\u001b[1;32m     21\u001b[0m \u001b[38;5;28;01mexcept\u001b[39;00m:\n\u001b[1;32m     22\u001b[0m     \u001b[38;5;28mprint\u001b[39m(\u001b[38;5;124m\"\u001b[39m\u001b[38;5;124mThe element could not be found within the specified timeout.\u001b[39m\u001b[38;5;124m\"\u001b[39m)\n\u001b[0;32m---> 24\u001b[0m popup \u001b[38;5;241m=\u001b[39m \u001b[43mdriver\u001b[49m\u001b[38;5;241;43m.\u001b[39;49m\u001b[43mfind_element\u001b[49m\u001b[43m(\u001b[49m\u001b[43mBy\u001b[49m\u001b[38;5;241;43m.\u001b[39;49m\u001b[43mXPATH\u001b[49m\u001b[43m,\u001b[49m\u001b[43m \u001b[49m\u001b[43mpopup_xpath\u001b[49m\u001b[43m)\u001b[49m\n\u001b[1;32m     25\u001b[0m popup\u001b[38;5;241m.\u001b[39mclick()\n\u001b[1;32m     27\u001b[0m \u001b[38;5;66;03m# iterate over listings on page to and retrieve links\u001b[39;00m\n",
      "File \u001b[0;32m~/opt/anaconda3/envs/real-estate/lib/python3.11/site-packages/selenium/webdriver/remote/webdriver.py:831\u001b[0m, in \u001b[0;36mWebDriver.find_element\u001b[0;34m(self, by, value)\u001b[0m\n\u001b[1;32m    828\u001b[0m     by \u001b[38;5;241m=\u001b[39m By\u001b[38;5;241m.\u001b[39mCSS_SELECTOR\n\u001b[1;32m    829\u001b[0m     value \u001b[38;5;241m=\u001b[39m \u001b[38;5;124mf\u001b[39m\u001b[38;5;124m'\u001b[39m\u001b[38;5;124m[name=\u001b[39m\u001b[38;5;124m\"\u001b[39m\u001b[38;5;132;01m{\u001b[39;00mvalue\u001b[38;5;132;01m}\u001b[39;00m\u001b[38;5;124m\"\u001b[39m\u001b[38;5;124m]\u001b[39m\u001b[38;5;124m'\u001b[39m\n\u001b[0;32m--> 831\u001b[0m \u001b[38;5;28;01mreturn\u001b[39;00m \u001b[38;5;28;43mself\u001b[39;49m\u001b[38;5;241;43m.\u001b[39;49m\u001b[43mexecute\u001b[49m\u001b[43m(\u001b[49m\u001b[43mCommand\u001b[49m\u001b[38;5;241;43m.\u001b[39;49m\u001b[43mFIND_ELEMENT\u001b[49m\u001b[43m,\u001b[49m\u001b[43m \u001b[49m\u001b[43m{\u001b[49m\u001b[38;5;124;43m\"\u001b[39;49m\u001b[38;5;124;43musing\u001b[39;49m\u001b[38;5;124;43m\"\u001b[39;49m\u001b[43m:\u001b[49m\u001b[43m \u001b[49m\u001b[43mby\u001b[49m\u001b[43m,\u001b[49m\u001b[43m \u001b[49m\u001b[38;5;124;43m\"\u001b[39;49m\u001b[38;5;124;43mvalue\u001b[39;49m\u001b[38;5;124;43m\"\u001b[39;49m\u001b[43m:\u001b[49m\u001b[43m \u001b[49m\u001b[43mvalue\u001b[49m\u001b[43m}\u001b[49m\u001b[43m)\u001b[49m[\u001b[38;5;124m\"\u001b[39m\u001b[38;5;124mvalue\u001b[39m\u001b[38;5;124m\"\u001b[39m]\n",
      "File \u001b[0;32m~/opt/anaconda3/envs/real-estate/lib/python3.11/site-packages/selenium/webdriver/remote/webdriver.py:440\u001b[0m, in \u001b[0;36mWebDriver.execute\u001b[0;34m(self, driver_command, params)\u001b[0m\n\u001b[1;32m    438\u001b[0m response \u001b[38;5;241m=\u001b[39m \u001b[38;5;28mself\u001b[39m\u001b[38;5;241m.\u001b[39mcommand_executor\u001b[38;5;241m.\u001b[39mexecute(driver_command, params)\n\u001b[1;32m    439\u001b[0m \u001b[38;5;28;01mif\u001b[39;00m response:\n\u001b[0;32m--> 440\u001b[0m     \u001b[38;5;28;43mself\u001b[39;49m\u001b[38;5;241;43m.\u001b[39;49m\u001b[43merror_handler\u001b[49m\u001b[38;5;241;43m.\u001b[39;49m\u001b[43mcheck_response\u001b[49m\u001b[43m(\u001b[49m\u001b[43mresponse\u001b[49m\u001b[43m)\u001b[49m\n\u001b[1;32m    441\u001b[0m     response[\u001b[38;5;124m\"\u001b[39m\u001b[38;5;124mvalue\u001b[39m\u001b[38;5;124m\"\u001b[39m] \u001b[38;5;241m=\u001b[39m \u001b[38;5;28mself\u001b[39m\u001b[38;5;241m.\u001b[39m_unwrap_value(response\u001b[38;5;241m.\u001b[39mget(\u001b[38;5;124m\"\u001b[39m\u001b[38;5;124mvalue\u001b[39m\u001b[38;5;124m\"\u001b[39m, \u001b[38;5;28;01mNone\u001b[39;00m))\n\u001b[1;32m    442\u001b[0m     \u001b[38;5;28;01mreturn\u001b[39;00m response\n",
      "File \u001b[0;32m~/opt/anaconda3/envs/real-estate/lib/python3.11/site-packages/selenium/webdriver/remote/errorhandler.py:245\u001b[0m, in \u001b[0;36mErrorHandler.check_response\u001b[0;34m(self, response)\u001b[0m\n\u001b[1;32m    243\u001b[0m         alert_text \u001b[38;5;241m=\u001b[39m value[\u001b[38;5;124m\"\u001b[39m\u001b[38;5;124malert\u001b[39m\u001b[38;5;124m\"\u001b[39m]\u001b[38;5;241m.\u001b[39mget(\u001b[38;5;124m\"\u001b[39m\u001b[38;5;124mtext\u001b[39m\u001b[38;5;124m\"\u001b[39m)\n\u001b[1;32m    244\u001b[0m     \u001b[38;5;28;01mraise\u001b[39;00m exception_class(message, screen, stacktrace, alert_text)  \u001b[38;5;66;03m# type: ignore[call-arg]  # mypy is not smart enough here\u001b[39;00m\n\u001b[0;32m--> 245\u001b[0m \u001b[38;5;28;01mraise\u001b[39;00m exception_class(message, screen, stacktrace)\n",
      "\u001b[0;31mNoSuchElementException\u001b[0m: Message: no such element: Unable to locate element: {\"method\":\"xpath\",\"selector\":\"/html/body/div[2]//div/div/div[2]/div/div[2]/div/div[2]/div/div/div/button[2]\"}\n  (Session info: chrome=112.0.5615.137)\nStacktrace:\n0   chromedriver                        0x000000010539d670 chromedriver + 4298352\n1   chromedriver                        0x0000000105395bbc chromedriver + 4266940\n2   chromedriver                        0x0000000104fc8758 chromedriver + 280408\n3   chromedriver                        0x0000000105003b38 chromedriver + 523064\n4   chromedriver                        0x000000010503c080 chromedriver + 753792\n5   chromedriver                        0x0000000104ff62d0 chromedriver + 467664\n6   chromedriver                        0x0000000104ff7354 chromedriver + 471892\n7   chromedriver                        0x000000010535d6c4 chromedriver + 4036292\n8   chromedriver                        0x0000000105361c64 chromedriver + 4054116\n9   chromedriver                        0x00000001053682d8 chromedriver + 4080344\n10  chromedriver                        0x0000000105362970 chromedriver + 4057456\n11  chromedriver                        0x00000001053398dc chromedriver + 3889372\n12  chromedriver                        0x000000010538125c chromedriver + 4182620\n13  chromedriver                        0x00000001053813b4 chromedriver + 4182964\n14  chromedriver                        0x00000001053900f4 chromedriver + 4243700\n15  libsystem_pthread.dylib             0x00000001a1ff3fa8 _pthread_start + 148\n16  libsystem_pthread.dylib             0x00000001a1feeda0 thread_start + 8\n"
     ]
    }
   ],
   "source": [
    "driver = init_driver(driver_path)\n",
    "\n",
    "url = 'https://www.immowelt.de/liste/berlin/wohnungen/kaufen?d=true&efs=NEW_BUILDING_PROJECT&efs=JUDICIAL_SALE&sd=DESC&sf=RELEVANCE&sp=1'\n",
    "driver.get(url)\n",
    "\n",
    "\n",
    "\n",
    "popup_xpath = '/html/body/div[2]//div/div/div[2]/div/div[2]/div/div[2]/div/div/div/button[2]'\n",
    "               \n",
    "\n",
    "\n",
    "links = []\n",
    "\n",
    "for _ in range(3):\n",
    "    \n",
    "    try:\n",
    "        element = WebDriverWait(driver, 20).until(\n",
    "        EC.presence_of_element_located((By.XPATH, popup_xpath))\n",
    "    )\n",
    "    # Perform actions after the element is loaded\n",
    "    except:\n",
    "        print(\"The element could not be found within the specified timeout.\")\n",
    "        \n",
    "    popup = driver.find_element(By.XPATH, popup_xpath)\n",
    "    popup.click()\n",
    "    \n",
    "    # iterate over listings on page to and retrieve links\n",
    "\n",
    "    for i in range(1,30):\n",
    "        try:\n",
    "            link_element = driver.find_element(By.XPATH, f'/html/body/div[1]/main/div[1]/div[1]/div/div[5]/div[{i}]/a')\n",
    "            link = link_element.get_attribute('href')\n",
    "            links.append(link)\n",
    "        except:\n",
    "            pass\n",
    "    \n",
    "    next_page = driver.find_element(By.XPATH, '/html/body/div[1]/main/div/div[1]/div/div[7]/div/button[6]')\n",
    "    next_page.click()\n",
    "\n",
    "links"
   ]
  },
  {
   "cell_type": "code",
   "execution_count": 79,
   "id": "bfe5044a",
   "metadata": {},
   "outputs": [
    {
     "data": {
      "text/plain": [
       "0"
      ]
     },
     "execution_count": 79,
     "metadata": {},
     "output_type": "execute_result"
    }
   ],
   "source": [
    "len(links)"
   ]
  },
  {
   "cell_type": "code",
   "execution_count": 90,
   "id": "d3eb2471",
   "metadata": {},
   "outputs": [],
   "source": [
    "driver.quit()"
   ]
  },
  {
   "cell_type": "code",
   "execution_count": 92,
   "id": "f6335aaa",
   "metadata": {},
   "outputs": [
    {
     "ename": "NoSuchElementException",
     "evalue": "Message: no such element: Unable to locate element: {\"method\":\"xpath\",\"selector\":\"/html/body/div[2]//div/div/div[2]/div/div[2]/div/div[2]/div/div/div/button[2]\"}\n  (Session info: chrome=112.0.5615.137)\nStacktrace:\n0   chromedriver                        0x000000010539d670 chromedriver + 4298352\n1   chromedriver                        0x0000000105395bbc chromedriver + 4266940\n2   chromedriver                        0x0000000104fc8758 chromedriver + 280408\n3   chromedriver                        0x0000000105003b38 chromedriver + 523064\n4   chromedriver                        0x000000010503c080 chromedriver + 753792\n5   chromedriver                        0x0000000104ff62d0 chromedriver + 467664\n6   chromedriver                        0x0000000104ff7354 chromedriver + 471892\n7   chromedriver                        0x000000010535d6c4 chromedriver + 4036292\n8   chromedriver                        0x0000000105361c64 chromedriver + 4054116\n9   chromedriver                        0x00000001053682d8 chromedriver + 4080344\n10  chromedriver                        0x0000000105362970 chromedriver + 4057456\n11  chromedriver                        0x00000001053398dc chromedriver + 3889372\n12  chromedriver                        0x000000010538125c chromedriver + 4182620\n13  chromedriver                        0x00000001053813b4 chromedriver + 4182964\n14  chromedriver                        0x00000001053900f4 chromedriver + 4243700\n15  libsystem_pthread.dylib             0x00000001a1ff3fa8 _pthread_start + 148\n16  libsystem_pthread.dylib             0x00000001a1feeda0 thread_start + 8\n",
     "output_type": "error",
     "traceback": [
      "\u001b[0;31m---------------------------------------------------------------------------\u001b[0m",
      "\u001b[0;31mNoSuchElementException\u001b[0m                    Traceback (most recent call last)",
      "Cell \u001b[0;32mIn[92], line 1\u001b[0m\n\u001b[0;32m----> 1\u001b[0m popup \u001b[38;5;241m=\u001b[39m \u001b[43mdriver\u001b[49m\u001b[38;5;241;43m.\u001b[39;49m\u001b[43mfind_element\u001b[49m\u001b[43m(\u001b[49m\u001b[43mBy\u001b[49m\u001b[38;5;241;43m.\u001b[39;49m\u001b[43mXPATH\u001b[49m\u001b[43m,\u001b[49m\u001b[43m \u001b[49m\u001b[43mpopup_xpath\u001b[49m\u001b[43m)\u001b[49m\n\u001b[1;32m      2\u001b[0m popup\u001b[38;5;241m.\u001b[39mclick()\n",
      "File \u001b[0;32m~/opt/anaconda3/envs/real-estate/lib/python3.11/site-packages/selenium/webdriver/remote/webdriver.py:831\u001b[0m, in \u001b[0;36mWebDriver.find_element\u001b[0;34m(self, by, value)\u001b[0m\n\u001b[1;32m    828\u001b[0m     by \u001b[38;5;241m=\u001b[39m By\u001b[38;5;241m.\u001b[39mCSS_SELECTOR\n\u001b[1;32m    829\u001b[0m     value \u001b[38;5;241m=\u001b[39m \u001b[38;5;124mf\u001b[39m\u001b[38;5;124m'\u001b[39m\u001b[38;5;124m[name=\u001b[39m\u001b[38;5;124m\"\u001b[39m\u001b[38;5;132;01m{\u001b[39;00mvalue\u001b[38;5;132;01m}\u001b[39;00m\u001b[38;5;124m\"\u001b[39m\u001b[38;5;124m]\u001b[39m\u001b[38;5;124m'\u001b[39m\n\u001b[0;32m--> 831\u001b[0m \u001b[38;5;28;01mreturn\u001b[39;00m \u001b[38;5;28;43mself\u001b[39;49m\u001b[38;5;241;43m.\u001b[39;49m\u001b[43mexecute\u001b[49m\u001b[43m(\u001b[49m\u001b[43mCommand\u001b[49m\u001b[38;5;241;43m.\u001b[39;49m\u001b[43mFIND_ELEMENT\u001b[49m\u001b[43m,\u001b[49m\u001b[43m \u001b[49m\u001b[43m{\u001b[49m\u001b[38;5;124;43m\"\u001b[39;49m\u001b[38;5;124;43musing\u001b[39;49m\u001b[38;5;124;43m\"\u001b[39;49m\u001b[43m:\u001b[49m\u001b[43m \u001b[49m\u001b[43mby\u001b[49m\u001b[43m,\u001b[49m\u001b[43m \u001b[49m\u001b[38;5;124;43m\"\u001b[39;49m\u001b[38;5;124;43mvalue\u001b[39;49m\u001b[38;5;124;43m\"\u001b[39;49m\u001b[43m:\u001b[49m\u001b[43m \u001b[49m\u001b[43mvalue\u001b[49m\u001b[43m}\u001b[49m\u001b[43m)\u001b[49m[\u001b[38;5;124m\"\u001b[39m\u001b[38;5;124mvalue\u001b[39m\u001b[38;5;124m\"\u001b[39m]\n",
      "File \u001b[0;32m~/opt/anaconda3/envs/real-estate/lib/python3.11/site-packages/selenium/webdriver/remote/webdriver.py:440\u001b[0m, in \u001b[0;36mWebDriver.execute\u001b[0;34m(self, driver_command, params)\u001b[0m\n\u001b[1;32m    438\u001b[0m response \u001b[38;5;241m=\u001b[39m \u001b[38;5;28mself\u001b[39m\u001b[38;5;241m.\u001b[39mcommand_executor\u001b[38;5;241m.\u001b[39mexecute(driver_command, params)\n\u001b[1;32m    439\u001b[0m \u001b[38;5;28;01mif\u001b[39;00m response:\n\u001b[0;32m--> 440\u001b[0m     \u001b[38;5;28;43mself\u001b[39;49m\u001b[38;5;241;43m.\u001b[39;49m\u001b[43merror_handler\u001b[49m\u001b[38;5;241;43m.\u001b[39;49m\u001b[43mcheck_response\u001b[49m\u001b[43m(\u001b[49m\u001b[43mresponse\u001b[49m\u001b[43m)\u001b[49m\n\u001b[1;32m    441\u001b[0m     response[\u001b[38;5;124m\"\u001b[39m\u001b[38;5;124mvalue\u001b[39m\u001b[38;5;124m\"\u001b[39m] \u001b[38;5;241m=\u001b[39m \u001b[38;5;28mself\u001b[39m\u001b[38;5;241m.\u001b[39m_unwrap_value(response\u001b[38;5;241m.\u001b[39mget(\u001b[38;5;124m\"\u001b[39m\u001b[38;5;124mvalue\u001b[39m\u001b[38;5;124m\"\u001b[39m, \u001b[38;5;28;01mNone\u001b[39;00m))\n\u001b[1;32m    442\u001b[0m     \u001b[38;5;28;01mreturn\u001b[39;00m response\n",
      "File \u001b[0;32m~/opt/anaconda3/envs/real-estate/lib/python3.11/site-packages/selenium/webdriver/remote/errorhandler.py:245\u001b[0m, in \u001b[0;36mErrorHandler.check_response\u001b[0;34m(self, response)\u001b[0m\n\u001b[1;32m    243\u001b[0m         alert_text \u001b[38;5;241m=\u001b[39m value[\u001b[38;5;124m\"\u001b[39m\u001b[38;5;124malert\u001b[39m\u001b[38;5;124m\"\u001b[39m]\u001b[38;5;241m.\u001b[39mget(\u001b[38;5;124m\"\u001b[39m\u001b[38;5;124mtext\u001b[39m\u001b[38;5;124m\"\u001b[39m)\n\u001b[1;32m    244\u001b[0m     \u001b[38;5;28;01mraise\u001b[39;00m exception_class(message, screen, stacktrace, alert_text)  \u001b[38;5;66;03m# type: ignore[call-arg]  # mypy is not smart enough here\u001b[39;00m\n\u001b[0;32m--> 245\u001b[0m \u001b[38;5;28;01mraise\u001b[39;00m exception_class(message, screen, stacktrace)\n",
      "\u001b[0;31mNoSuchElementException\u001b[0m: Message: no such element: Unable to locate element: {\"method\":\"xpath\",\"selector\":\"/html/body/div[2]//div/div/div[2]/div/div[2]/div/div[2]/div/div/div/button[2]\"}\n  (Session info: chrome=112.0.5615.137)\nStacktrace:\n0   chromedriver                        0x000000010539d670 chromedriver + 4298352\n1   chromedriver                        0x0000000105395bbc chromedriver + 4266940\n2   chromedriver                        0x0000000104fc8758 chromedriver + 280408\n3   chromedriver                        0x0000000105003b38 chromedriver + 523064\n4   chromedriver                        0x000000010503c080 chromedriver + 753792\n5   chromedriver                        0x0000000104ff62d0 chromedriver + 467664\n6   chromedriver                        0x0000000104ff7354 chromedriver + 471892\n7   chromedriver                        0x000000010535d6c4 chromedriver + 4036292\n8   chromedriver                        0x0000000105361c64 chromedriver + 4054116\n9   chromedriver                        0x00000001053682d8 chromedriver + 4080344\n10  chromedriver                        0x0000000105362970 chromedriver + 4057456\n11  chromedriver                        0x00000001053398dc chromedriver + 3889372\n12  chromedriver                        0x000000010538125c chromedriver + 4182620\n13  chromedriver                        0x00000001053813b4 chromedriver + 4182964\n14  chromedriver                        0x00000001053900f4 chromedriver + 4243700\n15  libsystem_pthread.dylib             0x00000001a1ff3fa8 _pthread_start + 148\n16  libsystem_pthread.dylib             0x00000001a1feeda0 thread_start + 8\n"
     ]
    }
   ],
   "source": [
    "popup = driver.find_element(By.XPATH, popup_xpath)\n",
    "popup.click()"
   ]
  },
  {
   "cell_type": "code",
   "execution_count": null,
   "id": "4c5b650e",
   "metadata": {},
   "outputs": [],
   "source": []
  }
 ],
 "metadata": {
  "kernelspec": {
   "display_name": "Python 3 (ipykernel)",
   "language": "python",
   "name": "python3"
  },
  "language_info": {
   "codemirror_mode": {
    "name": "ipython",
    "version": 3
   },
   "file_extension": ".py",
   "mimetype": "text/x-python",
   "name": "python",
   "nbconvert_exporter": "python",
   "pygments_lexer": "ipython3",
   "version": "3.11.3"
  }
 },
 "nbformat": 4,
 "nbformat_minor": 5
}
